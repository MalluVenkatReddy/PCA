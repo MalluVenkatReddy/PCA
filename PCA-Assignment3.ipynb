{
 "cells": [
  {
   "cell_type": "code",
   "execution_count": null,
   "id": "2ee0b745",
   "metadata": {},
   "outputs": [],
   "source": [
    "Q1. What are Eigenvalues and Eigenvectors? How are they related to the Eigen-Decomposition approach? \n",
    "Explain with an example."
   ]
  },
  {
   "cell_type": "markdown",
   "id": "86297005",
   "metadata": {},
   "source": [
    "#### Eigenvalues are associated with eigenvectors in Linear algebra. Both terms are used in the analysis of linear transformations. Eigenvalues are the special set of scalar values that is associated with the set of linear equations most probably in the matrix equations. The eigenvectors are also termed as characteristic roots. It is a non-zero vector that can be changed at most by its scalar factor after the application of linear transformations. And the corresponding factor which scales the eigenvectors is called an eigenvalue."
   ]
  },
  {
   "cell_type": "markdown",
   "id": "eaa46f34",
   "metadata": {},
   "source": [
    "## A*V=[Lambda]*V\n",
    "\n",
    "-- Lambda is eigen value and V is an eigen vector\n",
    "\n",
    "-- For a matrix [[1,2],[3,1]]\n",
    "\n",
    "-- Eigenvalues are -> 3.45, -1.45\n",
    "\n",
    "-- Eigen vectors are -> [0.8165,1], [-0.8165,1]"
   ]
  },
  {
   "cell_type": "code",
   "execution_count": null,
   "id": "0385dcf0",
   "metadata": {},
   "outputs": [],
   "source": [
    "Q2. What is eigen decomposition and what is its significance in linear algebra?"
   ]
  },
  {
   "cell_type": "markdown",
   "id": "d197429e",
   "metadata": {},
   "source": [
    "-- Eigendecomposition provides us with a tool to decompose a matrix by discovering the eigenvalues and the eigenvectors.\n",
    "\n",
    "-- In linear algebra, eigendecomposition is the factorization of a matrix into a canonical form, whereby the matrix is represented in terms of its eigenvalues and eigenvectors. Only diagonalizable matrices can be factorized in this way."
   ]
  },
  {
   "cell_type": "code",
   "execution_count": null,
   "id": "8921f2be",
   "metadata": {},
   "outputs": [],
   "source": [
    "Q3. What are the conditions that must be satisfied for a square matrix to be diagonalizable using the \n",
    "Eigen-Decomposition approach? Provide a brief proof to support your answer."
   ]
  },
  {
   "cell_type": "markdown",
   "id": "05519e5b",
   "metadata": {},
   "source": [
    "#### An n × n matrix with n distinct eigenvalues is diagonalizable."
   ]
  },
  {
   "cell_type": "markdown",
   "id": "60575157",
   "metadata": {},
   "source": [
    "-- matrix is invertible, then only that matrix can be Eigen-Decomposed"
   ]
  },
  {
   "cell_type": "markdown",
   "id": "dc22143a",
   "metadata": {},
   "source": [
    "-- [[1,2,-1],[2,-1,3],[3,1,2]] is 3*3 matrix\n",
    "\n",
    "-- determinant is zero, and so non reversible, eigen values are 1+sqrt(6),1-sqrt(6),0\n",
    "\n",
    "-- This matrix is not diagonalizable using the Eigen-Decomposition approach."
   ]
  },
  {
   "cell_type": "code",
   "execution_count": null,
   "id": "4bbdeacc",
   "metadata": {},
   "outputs": [],
   "source": [
    "Q4. What is the significance of the spectral theorem in the context of the Eigen-Decomposition approach? \n",
    "How is it related to the diagonalizability of a matrix? Explain with an example."
   ]
  },
  {
   "cell_type": "markdown",
   "id": "543cc99a",
   "metadata": {},
   "source": [
    "#### What is spectral decomposition theorem for real symmetric matrices?\n",
    "For every real symmetric matrix A there exists an orthogonal matrix Q and a diagonal matrix dM such that A = (QT dM Q). This decomposition is called a spectral decomposition of A since Q consists of the eigenvectors of A and the diagonal elements of dM are corresponding eigenvalues"
   ]
  },
  {
   "cell_type": "code",
   "execution_count": null,
   "id": "56b3ab88",
   "metadata": {},
   "outputs": [],
   "source": [
    "Q5. How do you find the eigenvalues of a matrix and what do they represent?"
   ]
  },
  {
   "cell_type": "markdown",
   "id": "0af39f21",
   "metadata": {},
   "source": [
    "#### Find its characteristic equation using |A - λI| = 0, where I is the identity matrix of same order A. Solve it for λ and the solutions would give the eigenvalues."
   ]
  },
  {
   "cell_type": "code",
   "execution_count": null,
   "id": "de9426a1",
   "metadata": {},
   "outputs": [],
   "source": [
    "-- For a matrix [[1,2],[3,1]]\n",
    "\n",
    "-- Eigenvalues are -> 3.45, -1.45"
   ]
  },
  {
   "cell_type": "code",
   "execution_count": null,
   "id": "ec37a5db",
   "metadata": {},
   "outputs": [],
   "source": [
    "Q6. What are eigenvectors and how are they related to eigenvalues?"
   ]
  },
  {
   "cell_type": "markdown",
   "id": "f0a08280",
   "metadata": {},
   "source": [
    "#### eigenvalues and eigenvectors are the building blocks of linear transformations. Eigenvalues represent the scaling factor by which a vector is transformed when a linear transformation is applied, while eigenvectors represent the directions in which the transformation occurs"
   ]
  },
  {
   "cell_type": "code",
   "execution_count": null,
   "id": "5a8f5aa0",
   "metadata": {},
   "outputs": [],
   "source": [
    "-- For a matrix [[1,2],[3,1]]\n",
    "\n",
    "-- Eigenvalues are -> 3.45, -1.45\n",
    "\n",
    "-- Eigen vectors are -> [0.8165,1], [-0.8165,1]"
   ]
  },
  {
   "cell_type": "code",
   "execution_count": null,
   "id": "95feb6cc",
   "metadata": {},
   "outputs": [],
   "source": [
    "Q7. Can you explain the geometric interpretation of eigenvectors and eigenvalues?"
   ]
  },
  {
   "cell_type": "markdown",
   "id": "303a7b6d",
   "metadata": {},
   "source": [
    "#### Geometrically, an eigenvector, corresponding to a real nonzero eigenvalue, points in a direction in which it is stretched by the transformation and the eigenvalue is the factor by which it is stretched. If the eigenvalue is negative, the direction is reversed"
   ]
  },
  {
   "cell_type": "code",
   "execution_count": null,
   "id": "515a0ecb",
   "metadata": {},
   "outputs": [],
   "source": [
    "Q8. What are some real-world applications of eigen decomposition?"
   ]
  },
  {
   "cell_type": "markdown",
   "id": "e6b0a775",
   "metadata": {},
   "source": [
    "#### Control theory, vibration analysis, electric circuits, advanced dynamics and quantum mechanics "
   ]
  },
  {
   "cell_type": "code",
   "execution_count": null,
   "id": "560c2b79",
   "metadata": {},
   "outputs": [],
   "source": [
    "Q9. Can a matrix have more than one set of eigenvectors and eigenvalues?"
   ]
  },
  {
   "cell_type": "markdown",
   "id": "2d1515ae",
   "metadata": {},
   "source": [
    "#### Since a nonzero subspace is infinite, every eigenvalue has infinitely many eigenvectors. (For example, multiplying an eigenvector by a nonzero scalar gives another eigenvector.)"
   ]
  },
  {
   "cell_type": "code",
   "execution_count": null,
   "id": "8889cfc4",
   "metadata": {},
   "outputs": [],
   "source": [
    "Q10. In what ways is the Eigen-Decomposition approach useful in data analysis and machine learning? \n",
    "Discuss at least three specific applications or techniques that rely on Eigen-Decomposition."
   ]
  },
  {
   "cell_type": "markdown",
   "id": "ba7caf94",
   "metadata": {},
   "source": [
    "#### The PCA technique uses eigen decomposition to find the eigen values and eigen vectors from the dataset and then transforms the data and results in a principle components which help in reducing the dimensionality of the data."
   ]
  },
  {
   "cell_type": "markdown",
   "id": "de54439a",
   "metadata": {},
   "source": [
    "#### Eigenvectors and eigenvalues have many important applications in computer vision and machine learning in general."
   ]
  },
  {
   "cell_type": "markdown",
   "id": "5f6b28cc",
   "metadata": {},
   "source": [
    "#### It is used for face recognition. "
   ]
  }
 ],
 "metadata": {
  "kernelspec": {
   "display_name": "Python 3 (ipykernel)",
   "language": "python",
   "name": "python3"
  },
  "language_info": {
   "codemirror_mode": {
    "name": "ipython",
    "version": 3
   },
   "file_extension": ".py",
   "mimetype": "text/x-python",
   "name": "python",
   "nbconvert_exporter": "python",
   "pygments_lexer": "ipython3",
   "version": "3.9.13"
  }
 },
 "nbformat": 4,
 "nbformat_minor": 5
}
